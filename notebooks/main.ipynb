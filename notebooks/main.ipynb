{
 "cells": [
  {
   "cell_type": "markdown",
   "metadata": {},
   "source": [
    "# Exploring the data\n",
    "\n",
    "This is a basic scratch notebook template for exploring the data.\n",
    "To create a new instance, call\n",
    "\n",
    "```sh\n",
    "calkit nb create --from main\n",
    "```\n",
    "\n",
    "This will create a new scratch notebook `scratch-{n}.ipynb`,\n",
    "where `{n}` will be an auto-incremented integer.\n",
    "This notebook will be ignored by Git by default.\n",
    "\n",
    "If any valuable analyses are developed within,\n",
    "they can be migrated into a script and executed in the pipeline\n",
    "(defined in `dvc.yaml`),\n",
    "or they can be archived with\n",
    "\n",
    "```sh\n",
    "calkit nb archive scratch-{n}.ipynb\n",
    "```\n",
    "\n",
    "It's also possible to convert to HTML during this process so the notebook\n",
    "is easy to view.\n",
    "These can serve as nice development journals,\n",
    "without relying on them to produce final results\n",
    "(that's what the pipeline is for.)"
   ]
  }
 ],
 "metadata": {
  "language_info": {
   "name": "python"
  }
 },
 "nbformat": 4,
 "nbformat_minor": 2
}
